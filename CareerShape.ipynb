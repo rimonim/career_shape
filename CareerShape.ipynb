{
 "cells": [
  {
   "cell_type": "markdown",
   "id": "12a4c430-9298-415f-b12f-9d2b957f8daa",
   "metadata": {},
   "source": [
    "#### Researchers for Pilot Study\n",
    "\n",
    "Ben Gurion Psych Department\n",
    "- Yoav Kessler (5093570)\n",
    "- Almog Simchon (5526046)\n",
    "- Andrea Berger (39434094)\n",
    "- Florina Uzefovsky (3983316)\n",
    "- Nachshon Meiran (3240089)\n",
    "\n",
    "Harvard Cognition, Brain, and Behavior (CBB) group\n",
    "- Steven Pinker (2693903)\n",
    "- Daniel L. Schacter (10129966)\n",
    "- Tomer D. Ullman (37774552)\n",
    "- Samuel J. Gershman (1831199)\n",
    "- Joshua D. Greene (21112145)\n",
    "\n",
    "Max Planck Institute for Human Cognitive and Brain Sciences (heads of independent groups)\n",
    "- Falk Eippert (2983957)\n",
    "- Veronika Engert (2701472)\n",
    "- Roland G Benoit (2523627)\n",
    "- Lars Meyer (145243956)\n",
    "- Stephanie Theves (4663606)\n",
    "\n",
    "MRC Cognition and Brain Sciences Unit (Programme Leaders)\n",
    "- Michael Anderson (145540877)\n",
    "- Duncan Astle (2339620)\n",
    "- Kate Baker (32328650)\n",
    "- John Duncan (145822452)\n",
    "- Tim Dalgleish (2193978)"
   ]
  },
  {
   "cell_type": "code",
   "execution_count": 213,
   "id": "4f5c4970-317c-4e08-9e75-50fba7a737f0",
   "metadata": {},
   "outputs": [],
   "source": [
    "import numpy as np\n",
    "import pandas as pd\n",
    "import requests # for accessing API\n",
    "from datetime import datetime  # for dealing with dates"
   ]
  },
  {
   "cell_type": "code",
   "execution_count": 226,
   "id": "893938d5-3a1d-4f4b-bed1-0047e732a6c2",
   "metadata": {},
   "outputs": [],
   "source": [
    "# Semantic Scholar API key (by request - mine allows for 100 requests / second)\n",
    "headers={'x-api-key':'***REMOVED***'}"
   ]
  },
  {
   "cell_type": "code",
   "execution_count": 227,
   "id": "42c2fe9e-728a-42ce-a4c1-f8bccdd4c8b2",
   "metadata": {},
   "outputs": [],
   "source": [
    "def get_career(authorId, name):\n",
    "    \"\"\"\n",
    "    Given authorId, retrieve paperId, title, embedding, references, citations, and publication date for each publication.\n",
    "    Output tuple: name, datafame.\n",
    "    \"\"\"\n",
    "    # list of publications (+title) as dataframe\n",
    "    http = requests.get(\"https://api.semanticscholar.org/graph/v1/author/%s/papers?limit=1000\" %authorId, headers=headers)\n",
    "    if http.status_code == 429:\n",
    "        print(\"Waiting 1 second for access to the API...\")\n",
    "        time.sleep(1)\n",
    "        http = requests.get(\"https://api.semanticscholar.org/graph/v1/author/%s/papers?limit=1000\" %authorId, headers=headers)\n",
    "    json = http.json()\n",
    "    pubs_df = pd.DataFrame(json['data'])\n",
    "    \n",
    "    # loop through publications, getting embedding for each\n",
    "    print(\"Estimated time to retrieve \"+str(len(pubs_df.index))+\" publications: \"+str(1*len(pubs_df.index)/100)+\" minutes\")\n",
    "    pubs_df['scholar_name'] = name\n",
    "    pubs_df['authors'] = None\n",
    "    pubs_df['embedding'] = None\n",
    "    pubs_df['date'] = None\n",
    "    pubs_df['references'] = None\n",
    "    pubs_df['citations'] = None\n",
    "    for index, row in pubs_df.iterrows():\n",
    "        temp_http = requests.get(\"https://api.semanticscholar.org/graph/v1/paper/%s?fields=year,authors,publicationDate,embedding,references,citations\" %row['paperId'], headers=headers)\n",
    "        if temp_http.status_code == 429:\n",
    "            print(\"Waiting 1 second for access to the API...\")\n",
    "            time.sleep(1)\n",
    "            temp_http = requests.get(\"https://api.semanticscholar.org/graph/v1/paper/%s?fields=year,authors,publicationDate,embedding,references,citations\" %row['paperId'], headers=headers)\n",
    "        if temp_http.status_code == 404:\n",
    "            nodes[n].append(None)\n",
    "            continue\n",
    "        temp_json = temp_http.json()\n",
    "        if not temp_json['publicationDate'] == None:\n",
    "            row['date'] = datetime.strptime(temp_json['publicationDate'], '%Y-%m-%d')\n",
    "        elif not temp_json['year'] == None:\n",
    "            row['date'] = datetime.strptime(str(temp_json['year']), '%Y')\n",
    "        row['authors'] = temp_json['authors']\n",
    "        row['embedding'] = temp_json['embedding']['vector']\n",
    "        row['references'] = temp_json['references']\n",
    "        row['citations'] = temp_json['citations']\n",
    "    return pubs_df"
   ]
  },
  {
   "cell_type": "code",
   "execution_count": 228,
   "id": "9e76a0b9-5843-474c-b209-100630439a2b",
   "metadata": {},
   "outputs": [],
   "source": [
    "def add_references_vec(pubs_df):\n",
    "    pubs_df['references_vec'] = [list(filter(lambda item: item is not None, [x['paperId'] for x in row['references']])) for index, row in pubs_df.iterrows()]\n",
    "    return pubs_df"
   ]
  },
  {
   "cell_type": "code",
   "execution_count": 240,
   "id": "e81257ee-7d0b-4901-95f3-d550b5280b83",
   "metadata": {},
   "outputs": [],
   "source": [
    "pilot_scholars = {\n",
    "    'Ben Gurion University Psychology Department': {\n",
    "        'Yoav Kessler': 5093570,\n",
    "        'Almog Simchon': 5526046,\n",
    "        'Andrea Berger': 39434094,\n",
    "        'Florina Uzefovsky': 3983316,\n",
    "        'Nachshon Meiran': 3240089\n",
    "    },\n",
    "    'Harvard CBB Group': {\n",
    "        'Steven Pinker': 2693903,\n",
    "        'Daniel L Schacter': 10129966,\n",
    "        'Tomer D Ullman': 37774552,\n",
    "        'Samuel J Gershman': 1831199,\n",
    "        'Joshua D Greene': 21112145\n",
    "    },\n",
    "    'Max Planck Institute for Human Cognitive and Brain Sciences': {\n",
    "        'Falk Eippert': 2983957,\n",
    "        'Veronika Engert': 2701472,\n",
    "        'Roland G Benoit': 2523627,\n",
    "        'Lars Meyer': 145243956,\n",
    "        'Stephanie Theves': 4663606\n",
    "    },\n",
    "    'MRC Cognition and Brain Sciences Unit': {\n",
    "        'Michael Anderson': 145540877,\n",
    "        'Duncan Astle': 2339620,\n",
    "        'Kate Baker': 32328650,\n",
    "        'John Duncan': 145822452,\n",
    "        'Tim Dalgleish': 2193978\n",
    "    }\n",
    "}"
   ]
  },
  {
   "cell_type": "code",
   "execution_count": null,
   "id": "8f039347-26b6-4d02-a023-13744c535737",
   "metadata": {
    "tags": []
   },
   "outputs": [],
   "source": [
    "for group in list(pilot_scholars.keys()):\n",
    "    for scholar in list(pilot_scholars[group].keys()):\n",
    "        d = get_career(pilot_scholars[group][scholar], scholar)\n",
    "        d = add_references_vec(d)\n",
    "        d['group'] = group\n",
    "        d['scholar_name'] = scholar\n",
    "        d['authorId'] = pilot_scholars[group][scholar]\n",
    "        # Expand vectors to multiple columns\n",
    "        embeddings = d.embedding.apply(pd.Series)\n",
    "        embeddings.columns = [(scholar.replace(\" \", \"_\").lower() + '_embedding_{}'.format(x)) for x in list(range(1, 769))]\n",
    "        references = d.references_vec.apply(pd.Series)\n",
    "        references.columns = [(scholar.replace(\" \", \"_\").lower() + '_reference_{}'.format(x)) for x in list(range(1, len(d.references_vec.apply(pd.Series).columns) + 1))]\n",
    "        # Count citations and authors\n",
    "        d['n_citations'] = [len(i) for i in [list(filter(lambda item: item is not None, [x['paperId'] for x in row['citations']])) for index, row in d.iterrows()]]\n",
    "        d['n_authors'] = [len(i) for i in [list(filter(lambda item: item is not None, [x['authorId'] for x in row['authors']])) for index, row in d.iterrows()]]\n",
    "        d = pd.concat([d, embeddings, references], axis = 1)\n",
    "        # Save dataset to csv\n",
    "        d.to_csv('data/' + scholar.replace(\" \", \"_\").lower() + '_career.csv')"
   ]
  }
 ],
 "metadata": {
  "kernelspec": {
   "display_name": "Python 3 (ipykernel)",
   "language": "python",
   "name": "python3"
  },
  "language_info": {
   "codemirror_mode": {
    "name": "ipython",
    "version": 3
   },
   "file_extension": ".py",
   "mimetype": "text/x-python",
   "name": "python",
   "nbconvert_exporter": "python",
   "pygments_lexer": "ipython3",
   "version": "3.9.13"
  }
 },
 "nbformat": 4,
 "nbformat_minor": 5
}
